{
 "cells": [
  {
   "cell_type": "code",
   "execution_count": 1,
   "id": "ee221bec",
   "metadata": {},
   "outputs": [],
   "source": [
    "import sys\n",
    "import os\n",
    "sys.path.append(\"/home/jshe/molecular_attention_bias/src\")\n",
    "\n",
    "import torch\n",
    "import numpy as np\n",
    "import matplotlib.pyplot as plt\n",
    "import pandas as pd"
   ]
  },
  {
   "cell_type": "markdown",
   "id": "8824b79c",
   "metadata": {},
   "source": [
    "## Biased Attention"
   ]
  },
  {
   "cell_type": "code",
   "execution_count": null,
   "id": "1ad799d8",
   "metadata": {},
   "outputs": [],
   "source": [
    "from models.biased_attention_transformer import Transformer"
   ]
  },
  {
   "cell_type": "code",
   "execution_count": null,
   "id": "12aa1694",
   "metadata": {},
   "outputs": [],
   "source": [
    "\n",
    "weights_dir = \"./weighted_graph/weights/PowerLaw/E128_H8_D8/\"\n",
    "\n",
    "layers = []\n",
    "exponents = []\n",
    "for weightsfile in os.listdir(weights_dir):\n",
    "    if not weightsfile.endswith('.pt'): continue\n",
    "\n",
    "    model = Transformer(\n",
    "        n_tokens=6, \n",
    "        out_features=9, \n",
    "        E=96, H=8, D=8, \n",
    "        dropout=0.1, \n",
    "        radial_function_name=\"PowerLaw\"\n",
    "    )\n",
    "    model.load_state_dict(torch.load(weights_dir + weightsfile, map_location=torch.device('cpu')))\n",
    "\n",
    "    for i, transformer_block in enumerate(model.transformer_blocks):\n",
    "        layers += [i] * len(transformer_block.weight_function.p)\n",
    "        exponents += list(transformer_block.weight_function.p.squeeze().detach())"
   ]
  },
  {
   "cell_type": "code",
   "execution_count": null,
   "id": "8abb4837",
   "metadata": {},
   "outputs": [],
   "source": [
    "\n",
    "fig, ax = plt.subplots(figsize=(4, 4))\n",
    "\n",
    "ax.scatter(exponents, layers, color='black', s=2, alpha=0.25)"
   ]
  }
 ],
 "metadata": {
  "kernelspec": {
   "display_name": "env",
   "language": "python",
   "name": "python3"
  },
  "language_info": {
   "codemirror_mode": {
    "name": "ipython",
    "version": 3
   },
   "file_extension": ".py",
   "mimetype": "text/x-python",
   "name": "python",
   "nbconvert_exporter": "python",
   "pygments_lexer": "ipython3",
   "version": "3.9.21"
  }
 },
 "nbformat": 4,
 "nbformat_minor": 5
}
