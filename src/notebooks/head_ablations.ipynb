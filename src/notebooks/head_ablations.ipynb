{
 "cells": [
  {
   "cell_type": "code",
   "execution_count": 10,
   "id": "852f63bf",
   "metadata": {},
   "outputs": [],
   "source": [
    "import sys\n",
    "import os\n",
    "sys.path.append(\"/home/jshe/molecular_attention_bias/src\")\n",
    "\n",
    "import numpy as np\n",
    "import pandas as pd\n",
    "import matplotlib.pyplot as plt"
   ]
  },
  {
   "cell_type": "code",
   "execution_count": 1,
   "id": "c6f4e9d6",
   "metadata": {},
   "outputs": [],
   "source": [
    "log_dir = '/scratch/midway3/jshe/molecular-attention-bias/U_G/BiasedAttentionTransformer/PowerLaw/E64H8D8/'"
   ]
  },
  {
   "cell_type": "code",
   "execution_count": 48,
   "id": "f8350f74",
   "metadata": {},
   "outputs": [],
   "source": [
    "logs = []\n",
    "for root, dirs, files in os.walk(log_dir):\n",
    "    if not files: continue\n",
    "    *_, run_id = root.split('/')\n",
    "\n",
    "    exponents_file = os.path.join(root, 'exponents.npy')\n",
    "    head_ablation_file = os.path.join(root, 'head_ablation.npy')\n",
    "\n",
    "    exponents = pd.DataFrame(np.load(exponents_file))\n",
    "    exponents.columns = [f'{run_id}/{i}/exponents' for i in range(len(exponents))]\n",
    "\n",
    "    head_ablation_U = pd.DataFrame(np.load(head_ablation_file)[:, :, 0])\n",
    "    head_ablation_U.columns = [f'{run_id}/{i}/head_ablation_U' for i in range(len(head_ablation_U))]\n",
    "\n",
    "    head_ablation_G = pd.DataFrame(np.load(head_ablation_file)[:, :, 1])\n",
    "    head_ablation_G.columns = [f'{run_id}/{i}/head_ablation_G' for i in range(len(head_ablation_G))]\n",
    "\n",
    "    logs.append(exponents)\n",
    "    logs.append(head_ablation_U)\n",
    "    logs.append(head_ablation_G)\n",
    "\n",
    "logs = pd.concat(logs, axis=1)\n",
    "tuples = [tuple(int(field) if field.isdigit() else field for field in col.split('/')) for col in logs.columns]\n",
    "logs.columns = pd.MultiIndex.from_tuples(\n",
    "    tuples, \n",
    "    names=['run_id', 'layer', 'property']\n",
    ")"
   ]
  },
  {
   "cell_type": "code",
   "execution_count": 59,
   "id": "ab705295",
   "metadata": {},
   "outputs": [
    {
     "data": {
      "image/png": "[encoded data removed]",
      "text/plain": [
       "<Figure size 400x400 with 1 Axes>"
      ]
     },
     "metadata": {},
     "output_type": "display_data"
    }
   ],
   "source": [
    "run_ids = logs.columns.get_level_values('run_id').unique()\n",
    "\n",
    "fig, ax = plt.subplots(figsize=(4, 4))\n",
    "\n",
    "layer = 5\n",
    "\n",
    "for run_id in run_ids:\n",
    "    exponents = logs[run_id, layer, 'exponents']\n",
    "    head_ablation_U = logs[run_id, layer, 'head_ablation_U']\n",
    "\n",
    "    ax.scatter(exponents, head_ablation_U, color='k', s=4)\n",
    "\n"
   ]
  },
  {
   "cell_type": "code",
   "execution_count": null,
   "id": "5c752e81",
   "metadata": {},
   "outputs": [],
   "source": []
  }
 ],
 "metadata": {
  "kernelspec": {
   "display_name": "moltorch",
   "language": "python",
   "name": "python3"
  },
  "language_info": {
   "codemirror_mode": {
    "name": "ipython",
    "version": 3
   },
   "file_extension": ".py",
   "mimetype": "text/x-python",
   "name": "python",
   "nbconvert_exporter": "python",
   "pygments_lexer": "ipython3",
   "version": "3.10.18"
  }
 },
 "nbformat": 4,
 "nbformat_minor": 5
}
