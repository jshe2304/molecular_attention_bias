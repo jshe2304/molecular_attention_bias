{
 "cells": [
  {
   "cell_type": "code",
   "execution_count": 1,
   "id": "328acd99-8702-4067-a83d-ad69e8608607",
   "metadata": {},
   "outputs": [],
   "source": [
    "import matplotlib.pyplot as plt\n",
    "import pandas as pd\n",
    "import numpy as np\n",
    "import os\n",
    "\n",
    "import torch\n",
    "from models.transformer import Transformer"
   ]
  },
  {
   "cell_type": "markdown",
   "id": "ad2cd209-9c39-4538-bf84-e281b4b5ab6b",
   "metadata": {},
   "source": [
    "## Distributions"
   ]
  },
  {
   "cell_type": "code",
   "execution_count": 2,
   "id": "547b9034-717c-4399-aa3f-55cea06b5c61",
   "metadata": {},
   "outputs": [],
   "source": [
    "logdirs = [\n",
    "    './logs/inverse_power/E128_H8_D8/', \n",
    "]\n",
    "labels = [\n",
    "    'Inverse Power'\n",
    "]"
   ]
  },
  {
   "cell_type": "code",
   "execution_count": 3,
   "id": "5f54975d-b7a4-4c27-9fcb-0c93ea2a5425",
   "metadata": {},
   "outputs": [
    {
     "data": {
      "image/png": "[encoded data removed]",
      "text/plain": [
       "<Figure size 600x400 with 1 Axes>"
      ]
     },
     "metadata": {},
     "output_type": "display_data"
    }
   ],
   "source": [
    "fig, ax = plt.subplots(figsize=(6, 4))\n",
    "\n",
    "log_scores = []\n",
    "\n",
    "for logdir in logdirs:\n",
    "\n",
    "    scores = []\n",
    "    for logfile in os.listdir(logdir):\n",
    "        if not logfile.endswith('.csv'): continue\n",
    "        arr = pd.read_csv(logdir + logfile)['validation_r2']\n",
    "        scores.append(arr[np.argpartition(arr, -4)[-4:]].mean())\n",
    "\n",
    "    log_scores.append(scores)\n",
    "\n",
    "ax.boxplot(\n",
    "    log_scores, tick_labels=labels, \n",
    "    vert=False\n",
    ")\n",
    "plt.tight_layout()"
   ]
  },
  {
   "cell_type": "markdown",
   "id": "b78525b0-c2a2-41d7-87a2-948f28fa2def",
   "metadata": {},
   "source": [
    "## Weights"
   ]
  },
  {
   "cell_type": "code",
   "execution_count": 4,
   "id": "63fc5d3d-977b-4322-8d25-84394f51ff8a",
   "metadata": {},
   "outputs": [],
   "source": [
    "weightsdir = './weights/inverse_power/E128_H8_D8/'"
   ]
  },
  {
   "cell_type": "code",
   "execution_count": 7,
   "id": "ac49f419-36d5-43d6-a53f-eedfa107f991",
   "metadata": {},
   "outputs": [
    {
     "data": {
      "text/plain": [
       "(array([  6.,  14.,  63., 370.,  14.,  10.,   8.,   4.,   6.,   3.,   4.,\n",
       "          1.,   4.,   1.,   0.,   0.,   0.,   0.,   0.,   0.,   0.,   0.,\n",
       "          1.,   0.,   0.,   1.,   0.,   0.,   0.,   0.,   0.,   0.,   0.,\n",
       "          0.,   0.,   0.,   0.,   1.,   0.,   0.,   0.,   0.,   0.,   0.,\n",
       "          0.,   0.,   0.,   0.,   0.,   0.,   0.,   0.,   0.,   0.,   0.,\n",
       "          0.,   0.,   0.,   0.,   0.,   0.,   0.,   0.,   1.]),\n",
       " array([ 0.14277448,  0.4148494 ,  0.68692428,  0.95899922,  1.23107409,\n",
       "         1.50314903,  1.77522397,  2.04729891,  2.31937385,  2.59144855,\n",
       "         2.86352348,  3.13559842,  3.40767336,  3.6797483 ,  3.95182323,\n",
       "         4.22389793,  4.49597311,  4.76804781,  5.04012299,  5.31219769,\n",
       "         5.58427286,  5.85634756,  6.12842226,  6.40049744,  6.67257214,\n",
       "         6.94464731,  7.21672201,  7.48879719,  7.76087189,  8.03294659,\n",
       "         8.30502224,  8.57709694,  8.84917164,  9.12124634,  9.39332104,\n",
       "         9.66539669,  9.93747139, 10.20954609, 10.48162079, 10.75369549,\n",
       "        11.02577114, 11.29784584, 11.56992054, 11.84199524, 12.11407089,\n",
       "        12.38614559, 12.65822029, 12.93029499, 13.20236969, 13.47444534,\n",
       "        13.74652004, 14.01859474, 14.29066944, 14.56274509, 14.83481979,\n",
       "        15.10689449, 15.37896919, 15.65104389, 15.92311954, 16.19519424,\n",
       "        16.4672699 , 16.73934364, 17.0114193 , 17.28349304, 17.5555687 ]),\n",
       " <BarContainer object of 64 artists>)"
      ]
     },
     "execution_count": 7,
     "metadata": {},
     "output_type": "execute_result"
    },
    {
     "data": {
      "image/png": "[encoded data removed]",
      "text/plain": [
       "<Figure size 600x400 with 1 Axes>"
      ]
     },
     "metadata": {},
     "output_type": "display_data"
    }
   ],
   "source": [
    "exponents = []\n",
    "for weightsfile in os.listdir(weightsdir):\n",
    "    if not weightsfile.endswith('.pt'): continue\n",
    "\n",
    "    model = Transformer(\n",
    "        in_features=6, \n",
    "        out_features=15, \n",
    "        E=128, H=8, D=8, \n",
    "        dropout=0.1, \n",
    "    )\n",
    "    model.load_state_dict(torch.load(weightsdir + weightsfile, map_location=torch.device('cpu')))\n",
    "\n",
    "    for i, transformer_block in enumerate(model.transformer_blocks):\n",
    "        exponents += list(transformer_block.bias_scale.log_weight.exp().squeeze().detach())\n",
    "\n",
    "fig, ax = plt.subplots(figsize=(6, 4))\n",
    "\n",
    "ax.hist(exponents, bins=64)"
   ]
  },
  {
   "cell_type": "code",
   "execution_count": null,
   "id": "e6d01dad-dc69-4b68-a729-612f3f1c1606",
   "metadata": {},
   "outputs": [],
   "source": []
  }
 ],
 "metadata": {
  "kernelspec": {
   "display_name": "Python 3 (ipykernel)",
   "language": "python",
   "name": "python3"
  },
  "language_info": {
   "codemirror_mode": {
    "name": "ipython",
    "version": 3
   },
   "file_extension": ".py",
   "mimetype": "text/x-python",
   "name": "python",
   "nbconvert_exporter": "python",
   "pygments_lexer": "ipython3",
   "version": "3.9.21"
  }
 },
 "nbformat": 4,
 "nbformat_minor": 5
}
