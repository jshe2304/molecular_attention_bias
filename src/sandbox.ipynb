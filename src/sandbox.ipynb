{
 "cells": [
  {
   "cell_type": "code",
   "execution_count": 1,
   "id": "54ba8606-d47b-4449-aa1c-886ac343a26c",
   "metadata": {},
   "outputs": [],
   "source": [
    "import torch\n",
    "import torch.nn as nn\n",
    "from torch.utils.data import DataLoader\n",
    "\n",
    "from utils.datasets import *\n",
    "from utils.point_clouds import *\n",
    "from utils.smiles import *\n",
    "\n",
    "from models.transformer import Transformer\n",
    "\n",
    "import matplotlib.pyplot as plt\n",
    "\n",
    "from IPython.display import clear_output\n",
    "\n",
    "%load_ext autoreload\n",
    "%autoreload 2"
   ]
  },
  {
   "cell_type": "markdown",
   "id": "f944e9c6-41a5-4c8e-9e60-3c2541d267fc",
   "metadata": {},
   "source": [
    "\n",
    "## Data"
   ]
  },
  {
   "cell_type": "code",
   "execution_count": 2,
   "id": "36ba813d-b5bc-4621-81dd-5c040208e758",
   "metadata": {},
   "outputs": [],
   "source": [
    "datadir = '/scratch/midway3/jshe/data/qm9/scaffolded/'\n",
    "fnames = [\n",
    "    #'smiles.npy',\n",
    "    #'conformers.npy',\n",
    "    'atoms.npy', \n",
    "    'coordinates.npy', \n",
    "    'y.npy', \n",
    "]\n",
    "collate_fn = collate_point_clouds\n",
    "\n",
    "train_dataset = NPYDataset(*[\n",
    "    datadir + f'train/{fname}' for fname in fnames\n",
    "])\n",
    "validation_dataset = NPYDataset(*[\n",
    "    datadir + f'validation/{fname}' for fname in fnames\n",
    "])\n",
    "\n",
    "train_dataloader = DataLoader(\n",
    "    train_dataset, \n",
    "    batch_size=64, collate_fn=collate_fn, shuffle=True\n",
    ")\n",
    "validation_dataloader = DataLoader(\n",
    "    validation_dataset, \n",
    "    batch_size=2048, collate_fn=collate_fn, shuffle=True\n",
    ")\n",
    "\n",
    "n_properties = train_dataset.n_properties"
   ]
  },
  {
   "cell_type": "raw",
   "id": "f7e8ce75-29b0-42d8-a401-ef31fb3b39fb",
   "metadata": {
    "jupyter": {
     "source_hidden": true
    }
   },
   "source": [
    "datadir0 = '/scratch/midway3/jshe/data/qm9/scaffolded_conformer/'\n",
    "smiles0 = np.concatenate((\n",
    "    np.load(datadir0 + 'train_smiles.npy', allow_pickle=True), \n",
    "    np.load(datadir0 + 'validation_smiles.npy', allow_pickle=True)\n",
    "))\n",
    "conformers0 = np.concatenate((\n",
    "    np.load(datadir0 + 'train_conformers.npy', allow_pickle=True), \n",
    "    np.load(datadir0 + 'validation_conformers.npy', allow_pickle=True)\n",
    "))\n",
    "y0 = np.concatenate((\n",
    "    np.load(datadir0 + 'train_y.npy', allow_pickle=True), \n",
    "    np.load(datadir0 + 'validation_y.npy', allow_pickle=True)\n",
    "))\n",
    "\n",
    "datadir1 = '/scratch/midway3/jshe/data/qm9/scaffolded/'\n",
    "smiles1 = np.concatenate((\n",
    "    np.load(datadir1 + 'train_smiles.npy', allow_pickle=True), \n",
    "    np.load(datadir1 + 'validation_smiles.npy', allow_pickle=True)\n",
    "))\n",
    "conformers1 = np.concatenate((\n",
    "    np.load(datadir1 + 'train_conformers.npy', allow_pickle=True), \n",
    "    np.load(datadir1 + 'validation_conformers.npy', allow_pickle=True)\n",
    "))\n",
    "y1 = np.concatenate((\n",
    "    np.load(datadir1 + 'train_norm_y.npy', allow_pickle=True), \n",
    "    np.load(datadir1 + 'validation_norm_y.npy', allow_pickle=True)\n",
    "))"
   ]
  },
  {
   "cell_type": "markdown",
   "id": "b7650088-221f-49fd-87ca-0b59ea707df8",
   "metadata": {},
   "source": [
    "## Model"
   ]
  },
  {
   "cell_type": "code",
   "execution_count": 3,
   "id": "e5cc61e7-4a82-4728-a457-3e54d41af6b2",
   "metadata": {},
   "outputs": [
    {
     "name": "stdout",
     "output_type": "stream",
     "text": [
      "Parameters: 1585231\n"
     ]
    }
   ],
   "source": [
    "model = Transformer(\n",
    "    in_features=6, \n",
    "    out_features=n_properties, \n",
    "    E=128, H=8, D=8, \n",
    "    dropout=0.1, \n",
    ")\n",
    "print(f'Parameters: {sum(p.numel() for p in model.parameters() if p.requires_grad)}')"
   ]
  },
  {
   "cell_type": "code",
   "execution_count": 4,
   "id": "db6c3bd6-192b-4ea6-8181-11e8140dfd62",
   "metadata": {},
   "outputs": [
    {
     "ename": "KeyboardInterrupt",
     "evalue": "",
     "output_type": "error",
     "traceback": [
      "\u001b[0;31m---------------------------------------------------------------------------\u001b[0m",
      "\u001b[0;31mKeyboardInterrupt\u001b[0m                         Traceback (most recent call last)",
      "Cell \u001b[0;32mIn[4], line 5\u001b[0m\n\u001b[1;32m      2\u001b[0m mse \u001b[38;5;241m=\u001b[39m nn\u001b[38;5;241m.\u001b[39mMSELoss()\n\u001b[1;32m      4\u001b[0m \u001b[38;5;28;01mfor\u001b[39;00m epoch \u001b[38;5;129;01min\u001b[39;00m \u001b[38;5;28mrange\u001b[39m(\u001b[38;5;241m64\u001b[39m):\n\u001b[0;32m----> 5\u001b[0m     \u001b[38;5;28;01mfor\u001b[39;00m i, (atoms, padding, coordinates, y_true) \u001b[38;5;129;01min\u001b[39;00m \u001b[38;5;28menumerate\u001b[39m(train_dataloader):\n\u001b[1;32m      6\u001b[0m         model\u001b[38;5;241m.\u001b[39mtrain()\n\u001b[1;32m      7\u001b[0m         optimizer\u001b[38;5;241m.\u001b[39mzero_grad()\n",
      "File \u001b[0;32m/scratch/midway3/jshe/.conda/envs/env/lib/python3.9/site-packages/torch/utils/data/dataloader.py:708\u001b[0m, in \u001b[0;36m_BaseDataLoaderIter.__next__\u001b[0;34m(self)\u001b[0m\n\u001b[1;32m    705\u001b[0m \u001b[38;5;28;01mif\u001b[39;00m \u001b[38;5;28mself\u001b[39m\u001b[38;5;241m.\u001b[39m_sampler_iter \u001b[38;5;129;01mis\u001b[39;00m \u001b[38;5;28;01mNone\u001b[39;00m:\n\u001b[1;32m    706\u001b[0m     \u001b[38;5;66;03m# TODO(https://github.com/pytorch/pytorch/issues/76750)\u001b[39;00m\n\u001b[1;32m    707\u001b[0m     \u001b[38;5;28mself\u001b[39m\u001b[38;5;241m.\u001b[39m_reset()  \u001b[38;5;66;03m# type: ignore[call-arg]\u001b[39;00m\n\u001b[0;32m--> 708\u001b[0m data \u001b[38;5;241m=\u001b[39m \u001b[38;5;28;43mself\u001b[39;49m\u001b[38;5;241;43m.\u001b[39;49m\u001b[43m_next_data\u001b[49m\u001b[43m(\u001b[49m\u001b[43m)\u001b[49m\n\u001b[1;32m    709\u001b[0m \u001b[38;5;28mself\u001b[39m\u001b[38;5;241m.\u001b[39m_num_yielded \u001b[38;5;241m+\u001b[39m\u001b[38;5;241m=\u001b[39m \u001b[38;5;241m1\u001b[39m\n\u001b[1;32m    710\u001b[0m \u001b[38;5;28;01mif\u001b[39;00m (\n\u001b[1;32m    711\u001b[0m     \u001b[38;5;28mself\u001b[39m\u001b[38;5;241m.\u001b[39m_dataset_kind \u001b[38;5;241m==\u001b[39m _DatasetKind\u001b[38;5;241m.\u001b[39mIterable\n\u001b[1;32m    712\u001b[0m     \u001b[38;5;129;01mand\u001b[39;00m \u001b[38;5;28mself\u001b[39m\u001b[38;5;241m.\u001b[39m_IterableDataset_len_called \u001b[38;5;129;01mis\u001b[39;00m \u001b[38;5;129;01mnot\u001b[39;00m \u001b[38;5;28;01mNone\u001b[39;00m\n\u001b[1;32m    713\u001b[0m     \u001b[38;5;129;01mand\u001b[39;00m \u001b[38;5;28mself\u001b[39m\u001b[38;5;241m.\u001b[39m_num_yielded \u001b[38;5;241m>\u001b[39m \u001b[38;5;28mself\u001b[39m\u001b[38;5;241m.\u001b[39m_IterableDataset_len_called\n\u001b[1;32m    714\u001b[0m ):\n",
      "File \u001b[0;32m/scratch/midway3/jshe/.conda/envs/env/lib/python3.9/site-packages/torch/utils/data/dataloader.py:764\u001b[0m, in \u001b[0;36m_SingleProcessDataLoaderIter._next_data\u001b[0;34m(self)\u001b[0m\n\u001b[1;32m    762\u001b[0m \u001b[38;5;28;01mdef\u001b[39;00m \u001b[38;5;21m_next_data\u001b[39m(\u001b[38;5;28mself\u001b[39m):\n\u001b[1;32m    763\u001b[0m     index \u001b[38;5;241m=\u001b[39m \u001b[38;5;28mself\u001b[39m\u001b[38;5;241m.\u001b[39m_next_index()  \u001b[38;5;66;03m# may raise StopIteration\u001b[39;00m\n\u001b[0;32m--> 764\u001b[0m     data \u001b[38;5;241m=\u001b[39m \u001b[38;5;28;43mself\u001b[39;49m\u001b[38;5;241;43m.\u001b[39;49m\u001b[43m_dataset_fetcher\u001b[49m\u001b[38;5;241;43m.\u001b[39;49m\u001b[43mfetch\u001b[49m\u001b[43m(\u001b[49m\u001b[43mindex\u001b[49m\u001b[43m)\u001b[49m  \u001b[38;5;66;03m# may raise StopIteration\u001b[39;00m\n\u001b[1;32m    765\u001b[0m     \u001b[38;5;28;01mif\u001b[39;00m \u001b[38;5;28mself\u001b[39m\u001b[38;5;241m.\u001b[39m_pin_memory:\n\u001b[1;32m    766\u001b[0m         data \u001b[38;5;241m=\u001b[39m _utils\u001b[38;5;241m.\u001b[39mpin_memory\u001b[38;5;241m.\u001b[39mpin_memory(data, \u001b[38;5;28mself\u001b[39m\u001b[38;5;241m.\u001b[39m_pin_memory_device)\n",
      "File \u001b[0;32m/scratch/midway3/jshe/.conda/envs/env/lib/python3.9/site-packages/torch/utils/data/_utils/fetch.py:55\u001b[0m, in \u001b[0;36m_MapDatasetFetcher.fetch\u001b[0;34m(self, possibly_batched_index)\u001b[0m\n\u001b[1;32m     53\u001b[0m \u001b[38;5;28;01melse\u001b[39;00m:\n\u001b[1;32m     54\u001b[0m     data \u001b[38;5;241m=\u001b[39m \u001b[38;5;28mself\u001b[39m\u001b[38;5;241m.\u001b[39mdataset[possibly_batched_index]\n\u001b[0;32m---> 55\u001b[0m \u001b[38;5;28;01mreturn\u001b[39;00m \u001b[38;5;28;43mself\u001b[39;49m\u001b[38;5;241;43m.\u001b[39;49m\u001b[43mcollate_fn\u001b[49m\u001b[43m(\u001b[49m\u001b[43mdata\u001b[49m\u001b[43m)\u001b[49m\n",
      "File \u001b[0;32m~/inverse_power_attention/src/utils/point_clouds.py:57\u001b[0m, in \u001b[0;36mcollate_point_clouds\u001b[0;34m(batch)\u001b[0m\n\u001b[1;32m     45\u001b[0m \u001b[38;5;250m\u001b[39m\u001b[38;5;124;03m'''\u001b[39;00m\n\u001b[1;32m     46\u001b[0m \u001b[38;5;124;03mCollate a DataLoader outputs corresponding to point clouds.\u001b[39;00m\n\u001b[1;32m     47\u001b[0m \n\u001b[0;32m   (...)\u001b[0m\n\u001b[1;32m     52\u001b[0m \u001b[38;5;124;03m    Tuple(torch.Tensor, torch.Tensor, torch.Tensor, torch.Tensor)\u001b[39;00m\n\u001b[1;32m     53\u001b[0m \u001b[38;5;124;03m'''\u001b[39;00m\n\u001b[1;32m     55\u001b[0m atoms_batch, coordinates_batch, y_batch \u001b[38;5;241m=\u001b[39m \u001b[38;5;28mzip\u001b[39m(\u001b[38;5;241m*\u001b[39mbatch)\n\u001b[0;32m---> 57\u001b[0m atoms, padding \u001b[38;5;241m=\u001b[39m \u001b[43mfeaturize_atoms\u001b[49m\u001b[43m(\u001b[49m\u001b[43matoms_batch\u001b[49m\u001b[43m)\u001b[49m\n\u001b[1;32m     58\u001b[0m coordinates \u001b[38;5;241m=\u001b[39m torch\u001b[38;5;241m.\u001b[39mstack(coordinates_batch)[:, :atoms\u001b[38;5;241m.\u001b[39mshape[\u001b[38;5;241m1\u001b[39m], :]\n\u001b[1;32m     59\u001b[0m y \u001b[38;5;241m=\u001b[39m torch\u001b[38;5;241m.\u001b[39mstack(y_batch)\n",
      "File \u001b[0;32m~/inverse_power_attention/src/utils/point_clouds.py:34\u001b[0m, in \u001b[0;36mfeaturize_atoms\u001b[0;34m(atoms_arr, device)\u001b[0m\n\u001b[1;32m     20\u001b[0m \u001b[38;5;250m\u001b[39m\u001b[38;5;124;03m'''\u001b[39;00m\n\u001b[1;32m     21\u001b[0m \u001b[38;5;124;03mFeaturize a list of atoms corresponding to a molecule.\u001b[39;00m\n\u001b[1;32m     22\u001b[0m \n\u001b[0;32m   (...)\u001b[0m\n\u001b[1;32m     27\u001b[0m \u001b[38;5;124;03m    List[List[float]]\u001b[39;00m\n\u001b[1;32m     28\u001b[0m \u001b[38;5;124;03m'''\u001b[39;00m\n\u001b[1;32m     30\u001b[0m features_list \u001b[38;5;241m=\u001b[39m [\n\u001b[1;32m     31\u001b[0m     torch\u001b[38;5;241m.\u001b[39mtensor([get_features(atom) \u001b[38;5;28;01mfor\u001b[39;00m atom \u001b[38;5;129;01min\u001b[39;00m atoms], device\u001b[38;5;241m=\u001b[39mdevice)\n\u001b[1;32m     32\u001b[0m     \u001b[38;5;28;01mfor\u001b[39;00m atoms \u001b[38;5;129;01min\u001b[39;00m atoms_arr\n\u001b[1;32m     33\u001b[0m ]\n\u001b[0;32m---> 34\u001b[0m features_tensor \u001b[38;5;241m=\u001b[39m \u001b[43mpad_sequence\u001b[49m\u001b[43m(\u001b[49m\u001b[43mfeatures_list\u001b[49m\u001b[43m,\u001b[49m\u001b[43m \u001b[49m\u001b[43mbatch_first\u001b[49m\u001b[38;5;241;43m=\u001b[39;49m\u001b[38;5;28;43;01mTrue\u001b[39;49;00m\u001b[43m,\u001b[49m\u001b[43m \u001b[49m\u001b[43mpadding_value\u001b[49m\u001b[38;5;241;43m=\u001b[39;49m\u001b[38;5;241;43m0\u001b[39;49m\u001b[43m)\u001b[49m\n\u001b[1;32m     36\u001b[0m padding_list \u001b[38;5;241m=\u001b[39m [\n\u001b[1;32m     37\u001b[0m     torch\u001b[38;5;241m.\u001b[39mzeros(\u001b[38;5;28mlen\u001b[39m(atoms), dtype\u001b[38;5;241m=\u001b[39mtorch\u001b[38;5;241m.\u001b[39mbool, device\u001b[38;5;241m=\u001b[39mdevice)\n\u001b[1;32m     38\u001b[0m     \u001b[38;5;28;01mfor\u001b[39;00m atoms \u001b[38;5;129;01min\u001b[39;00m atoms_arr\n\u001b[1;32m     39\u001b[0m ]\n\u001b[1;32m     40\u001b[0m padding_tensor \u001b[38;5;241m=\u001b[39m pad_sequence(padding_list, batch_first\u001b[38;5;241m=\u001b[39m\u001b[38;5;28;01mTrue\u001b[39;00m, padding_value\u001b[38;5;241m=\u001b[39m\u001b[38;5;28;01mTrue\u001b[39;00m)\n",
      "File \u001b[0;32m/scratch/midway3/jshe/.conda/envs/env/lib/python3.9/site-packages/torch/nn/utils/rnn.py:481\u001b[0m, in \u001b[0;36mpad_sequence\u001b[0;34m(sequences, batch_first, padding_value, padding_side)\u001b[0m\n\u001b[1;32m    477\u001b[0m         sequences \u001b[38;5;241m=\u001b[39m sequences\u001b[38;5;241m.\u001b[39munbind(\u001b[38;5;241m0\u001b[39m)  \u001b[38;5;66;03m# type: ignore[assignment]\u001b[39;00m\n\u001b[1;32m    479\u001b[0m \u001b[38;5;66;03m# assuming trailing dimensions and type of all the Tensors\u001b[39;00m\n\u001b[1;32m    480\u001b[0m \u001b[38;5;66;03m# in sequences are same and fetching those from sequences[0]\u001b[39;00m\n\u001b[0;32m--> 481\u001b[0m \u001b[38;5;28;01mreturn\u001b[39;00m \u001b[43mtorch\u001b[49m\u001b[38;5;241;43m.\u001b[39;49m\u001b[43m_C\u001b[49m\u001b[38;5;241;43m.\u001b[39;49m\u001b[43m_nn\u001b[49m\u001b[38;5;241;43m.\u001b[39;49m\u001b[43mpad_sequence\u001b[49m\u001b[43m(\u001b[49m\n\u001b[1;32m    482\u001b[0m \u001b[43m    \u001b[49m\u001b[43msequences\u001b[49m\u001b[43m,\u001b[49m\u001b[43m \u001b[49m\u001b[43mbatch_first\u001b[49m\u001b[43m,\u001b[49m\u001b[43m \u001b[49m\u001b[43mpadding_value\u001b[49m\u001b[43m,\u001b[49m\u001b[43m \u001b[49m\u001b[43mpadding_side\u001b[49m\u001b[43m  \u001b[49m\u001b[38;5;66;43;03m# type: ignore[arg-type]\u001b[39;49;00m\n\u001b[1;32m    483\u001b[0m \u001b[43m\u001b[49m\u001b[43m)\u001b[49m\n",
      "\u001b[0;31mKeyboardInterrupt\u001b[0m: "
     ]
    }
   ],
   "source": [
    "optimizer = torch.optim.Adam(model.parameters())\n",
    "mse = nn.MSELoss()\n",
    "\n",
    "for epoch in range(64):\n",
    "    for i, (atoms, padding, coordinates, y_true) in enumerate(train_dataloader):\n",
    "        model.train()\n",
    "        optimizer.zero_grad()\n",
    "\n",
    "        # Send to device\n",
    "\n",
    "        atom_features = atoms.float()\n",
    "        padding = padding\n",
    "        coordinates = coordinates.float()\n",
    "        y_true = y_true.float()\n",
    "\n",
    "        # Forward pass\n",
    "        \n",
    "        y_pred = model(\n",
    "            atom_features, coordinates, padding, \n",
    "        )\n",
    "        loss = mse(y_pred, y_true)\n",
    "        loss.backward()\n",
    "        optimizer.step()\n",
    "\n",
    "        print(i, float(loss))\n",
    "        clear_output(wait=True)"
   ]
  },
  {
   "cell_type": "code",
   "execution_count": null,
   "id": "3953cb71-268c-4576-9e5f-65e0244fff09",
   "metadata": {},
   "outputs": [],
   "source": []
  }
 ],
 "metadata": {
  "kernelspec": {
   "display_name": "Python 3 (ipykernel)",
   "language": "python",
   "name": "python3"
  },
  "language_info": {
   "codemirror_mode": {
    "name": "ipython",
    "version": 3
   },
   "file_extension": ".py",
   "mimetype": "text/x-python",
   "name": "python",
   "nbconvert_exporter": "python",
   "pygments_lexer": "ipython3",
   "version": "3.9.21"
  }
 },
 "nbformat": 4,
 "nbformat_minor": 5
}
